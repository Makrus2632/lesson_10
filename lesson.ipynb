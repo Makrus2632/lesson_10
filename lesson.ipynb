{
 "cells": [
  {
   "cell_type": "markdown",
   "metadata": {},
   "source": [
    "**<h1>\"Обработчики ошибок, генерация исключений, создание своих типов исключений\"</h1>**"
   ]
  },
  {
   "cell_type": "markdown",
   "metadata": {},
   "source": [
    "### **<h2>Теоретическая часть:</h2>**"
   ]
  },
  {
   "cell_type": "markdown",
   "metadata": {},
   "source": [
    "**Различие между ошибками и исключениями:**\n",
    "\n",
    "\n",
    "\n",
    "> **Ошибки (Errors):**\n",
    "\n",
    "Ошибки возникают из-за неправильного использования языка программирования и часто являются фатальными.\n",
    "\n",
    "**Примеры: SyntaxError, IndentationError.**\n",
    "\n",
    "Эти ошибки обычно требуют исправления в коде и не подлежат обработке.\n",
    "\n",
    "\n",
    "\n",
    "> **Исключения (Exceptions):**\n",
    "\n",
    "Исключения возникают во время выполнения программы из-за непредвиденных ситуаций.\n",
    "\n",
    "**Примеры: ZeroDivisionError, ValueError.**\n",
    "\n",
    "Исключения можно и нужно обрабатывать для предотвращения краха программы и обеспечения её устойчивости."
   ]
  },
  {
   "cell_type": "markdown",
   "metadata": {},
   "source": [
    "### **<h2>Базовые конструкции: try, except, else, finally:</h2>**"
   ]
  },
  {
   "cell_type": "markdown",
   "metadata": {},
   "source": [
    "```python\n",
    "try:\n",
    "    # Код, который может вызвать исключение\n",
    "except ExceptionType:\n",
    "    # Код для обработки исключения\n",
    "else:\n",
    "    # Код, который выполняется, если исключения не было\n",
    "finally:\n",
    "    # Код, который выполняется всегда\n",
    "```"
   ]
  },
  {
   "cell_type": "markdown",
   "metadata": {},
   "source": [
    "**<h3>Принципы написания кода, устойчивого к исключениям:</h3>**\n",
    "\n",
    "* **Понимание возможных точек отказа:** Определение участков кода, где могут возникнуть исключения (например, деление на ноль, неправильный ввод данных).\n",
    "* **Логирование ошибок:** Ведение журнала ошибок для их анализа и последующего исправления.\n",
    "* **Минимизация области try/except:** Оборачивание только тех частей кода, которые могут вызвать исключение, а не всего подряд.\n",
    "* **Избегание пустых except блоков:** Убедитесь, что исключения обрабатываются надлежащим образом или логируются, чтобы не терять информацию об ошибках.\n",
    "* **Использование специфичных исключений:** Обрабатывайте конкретные типы исключений вместо общего Exception, чтобы избежать скрытия других ошибок."
   ]
  },
  {
   "cell_type": "markdown",
   "metadata": {},
   "source": [
    "**<h3>Примеры простых конструкций try и except:</h3>**"
   ]
  },
  {
   "cell_type": "markdown",
   "metadata": {},
   "source": [
    "Пример 1: Обработка деления на ноль"
   ]
  },
  {
   "cell_type": "code",
   "execution_count": null,
   "metadata": {},
   "outputs": [],
   "source": [
    "number_one = int(input(\"Введите число: \"))\n",
    "number_two = int(input(\"Введите число: \"))\n",
    "\n",
    "try:\n",
    "    result = number_one / number_two\n",
    "except ZeroDivisionError:\n",
    "    print(\"Деление на ноль невозможно.\")\n",
    "else:\n",
    "    print(f\"Результат деления: {result}\")"
   ]
  },
  {
   "cell_type": "markdown",
   "metadata": {},
   "source": [
    "Пример 2: Обработка ошибки преобразования типов"
   ]
  },
  {
   "cell_type": "code",
   "execution_count": null,
   "metadata": {},
   "outputs": [],
   "source": [
    "try:\n",
    "    number_one = int(input(\"Введите число: \"))\n",
    "    number_two = int(input(\"Введите число: \"))\n",
    "\n",
    "    result = number_one / number_two\n",
    "except ValueError:\n",
    "    print(\"Ошибка: невозможно преобразовать строку в число.\")\n",
    "except ZeroDivisionError:\n",
    "    print(\"Деление на ноль невозможно.\")\n",
    "else:\n",
    "    print(f\"Результат деления: {result}\")\n"
   ]
  },
  {
   "cell_type": "markdown",
   "metadata": {},
   "source": [
    "Пример 3: Обработка базового исключения"
   ]
  },
  {
   "cell_type": "code",
   "execution_count": null,
   "metadata": {},
   "outputs": [],
   "source": [
    "try:\n",
    "    number_one = int(input(\"Введите число: \"))\n",
    "    number_two = int(input(\"Введите число: \"))\n",
    "except BaseException as be:\n",
    "    print(\"Ошибка: невозможно преобразовать строку в число.\")\n",
    "    print(f\"Тип ошибки: {type(be).__name__}\")\n",
    "    print(f\"Сообщение об ошибке: {be}\")\n",
    "else:\n",
    "    print(f\"Результат сложения: {number_one + number_two}\")"
   ]
  },
  {
   "cell_type": "markdown",
   "metadata": {},
   "source": [
    "### **<h2>Генерация исключений</h2>**"
   ]
  },
  {
   "cell_type": "markdown",
   "metadata": {},
   "source": [
    "**<h3>Использование raise для генерации исключений:</h3>**\n",
    "\n",
    "```python\n",
    "raise ExceptionType(\"сообщение об ошибке\")\n",
    "```\n",
    "\n",
    "* Ключевое слово raise используется для создания исключений в Python.\n",
    "* С помощью raise можно явно вызвать исключение в нужном месте кода.\n"
   ]
  },
  {
   "cell_type": "markdown",
   "metadata": {},
   "source": [
    "**<h3>Как и когда использовать встроенные типы исключений (ValueError, TypeError и т.д.):</h3>**\n",
    "\n",
    "* **ValueError:**\n",
    "\n",
    "Используется, когда функция получает аргумент правильного типа, но с некорректным значением.\n",
    "\n",
    "**Пример:** попытка преобразования строки в число, когда строка не является числом.\n",
    "* **TypeError:**\n",
    "\n",
    "Используется, когда функция получает аргумент неподходящего типа.\n",
    "\n",
    "**Пример:** попытка сложить число и строку.\n",
    "* **KeyError:**\n",
    "\n",
    "Используется при попытке доступа к несуществующему ключу в словаре.\n",
    "* **IndexError:**\n",
    "\n",
    "Используется при попытке доступа к элементу списка по несуществующему индексу.\n",
    "* **AttributeError:**\n",
    "\n",
    "Используется при попытке доступа к несуществующему атрибуту объекта."
   ]
  },
  {
   "cell_type": "markdown",
   "metadata": {},
   "source": [
    "**<h3>Понятие о \"цепочке исключений\" и ключевое слово from:</h3>**\n",
    "\n",
    "* Цепочка исключений: Позволяет связать два исключения, чтобы сохранить информацию о первоначальной причине исключения.\n",
    "* Ключевое слово from используется для создания цепочки исключений.\n",
    "* Синтаксис:\n",
    "```python\n",
    "raise NewException(\"сообщение об ошибке\") from OriginalException\n",
    "```\n",
    "* Это помогает при отладке, показывая исходное исключение, которое привело к новому."
   ]
  },
  {
   "cell_type": "markdown",
   "metadata": {},
   "source": [
    "**<h3>Примеры генерации исключений:</h3>**"
   ]
  },
  {
   "cell_type": "markdown",
   "metadata": {},
   "source": [
    "Пример 1: Генерация ValueError для некорректного значения"
   ]
  },
  {
   "cell_type": "code",
   "execution_count": null,
   "metadata": {},
   "outputs": [],
   "source": [
    "def set_age(age: int):\n",
    "    if age <= 0:\n",
    "        raise ValueError(\"Возраст не может быть отрицательным\")\n",
    "    print(f\"Возраст установлен на {age}\")\n",
    "\n",
    "\n",
    "user_age = int(input(\"Введите ваш возраст: \"))\n",
    "set_age(user_age)\n"
   ]
  },
  {
   "cell_type": "markdown",
   "metadata": {},
   "source": [
    "Пример 2: Генерация TypeError для некорректного типа"
   ]
  },
  {
   "cell_type": "code",
   "execution_count": null,
   "metadata": {},
   "outputs": [],
   "source": [
    "def add_numbers(a, b):\n",
    "    if not isinstance(a, (int, float)) or not isinstance(b, (int, float)):\n",
    "        raise TypeError(\"Оба аргумента должны быть числами\")\n",
    "    return a + b\n",
    "\n",
    "x, y = int(input(\"Введите первое число: \")), float(input(\"Введите второе число: \"))\n",
    "add_numbers(x, y)"
   ]
  },
  {
   "cell_type": "markdown",
   "metadata": {},
   "source": [
    "Пример 3: Использование from для цепочки исключений"
   ]
  },
  {
   "cell_type": "code",
   "execution_count": null,
   "metadata": {},
   "outputs": [],
   "source": [
    "some_value = input(\"Введите число: \")\n",
    "\n",
    "try:\n",
    "    int_value = int(some_value)\n",
    "except ValueError as e:\n",
    "    raise ValueError(\"Ошибка преобразования строки в число\") from e\n",
    "else:\n",
    "    print(int_value)"
   ]
  },
  {
   "cell_type": "markdown",
   "metadata": {},
   "source": [
    "### **<h2>Создание своих типов исключений</h2>**"
   ]
  },
  {
   "cell_type": "markdown",
   "metadata": {},
   "source": [
    "**<h3>Зачем нужны собственные типы исключений:</h3>**\n",
    "\n",
    "* **Улучшение читаемости кода:**\n",
    "\n",
    " Свои исключения делают код более понятным и информативным.\n",
    "* **Более точное определение ошибок:**\n",
    "\n",
    " Позволяют детально классифицировать ошибки в приложении.\n",
    "* **Легкость обработки:**\n",
    "\n",
    " Позволяют точно обрабатывать конкретные ошибки в блоках except."
   ]
  },
  {
   "cell_type": "markdown",
   "metadata": {},
   "source": [
    "**<h3>Наследование от базового класса Exception:</h3>**\n",
    "\n",
    "* Все пользовательские исключения в Python должны наследоваться от базового класса Exception.\n",
    "* Пример простого пользовательского исключения:\n",
    "```python\n",
    "class MyCustomException(Exception):\n",
    "    pass\n",
    "```"
   ]
  },
  {
   "cell_type": "markdown",
   "metadata": {},
   "source": [
    "**<h3>Переопределение методов и добавление собственной логики:</h3>**\n",
    "\n",
    "*   Можно переопределять конструктор и методы базового класса Exception, чтобы добавить дополнительную информацию или логику.\n",
    "*   Пример переопределения конструктора:\n",
    "\n",
    "```python\n",
    "class MyCustomException(Exception):\n",
    "    def __init__(self, message, error_code):\n",
    "        super().__init__(message)\n",
    "        self.error_code = error_code\n",
    "\n",
    "    def __str__(self):\n",
    "        return f\"[Error {self.error_code}]: {self.message}\"\n",
    "```"
   ]
  },
  {
   "cell_type": "markdown",
   "metadata": {},
   "source": [
    "**<h3>Примеры создания своих типов исключений:</h3>**"
   ]
  },
  {
   "cell_type": "markdown",
   "metadata": {},
   "source": [
    "Пример 1: Простое пользовательское исключение"
   ]
  },
  {
   "cell_type": "code",
   "execution_count": null,
   "metadata": {},
   "outputs": [],
   "source": [
    "class InvalidAgeError(Exception):\n",
    "    def __init__(self, age, message=\"Возраст недействителен\"):\n",
    "        self.age = age\n",
    "        self.message = message\n",
    "        super().__init__(self.message)\n",
    "\n",
    "    def __str__(self):\n",
    "        return f\"{self.message}: {self.age}\"\n",
    "\n",
    "class User:\n",
    "    def __init__(self, name, age):\n",
    "        if age <= 0:\n",
    "            raise InvalidAgeError(age)\n",
    "        self.name = name\n",
    "        self.age = age"
   ]
  },
  {
   "cell_type": "code",
   "execution_count": null,
   "metadata": {},
   "outputs": [],
   "source": [
    "user_one = User(\"John Doe\", 18)\n",
    "print(user_one.name)\n",
    "\n",
    "# user_second = User(\"Jane Smith\", -10)\n",
    "# print(user_second.name)\n",
    "try:\n",
    "    user_second = User(\"Jane Smith\", -10)\n",
    "    print(user_second.name)\n",
    "except InvalidAgeError as ia:\n",
    "    print(ia)\n",
    "else:\n",
    "    print(\"Работаем дальше!\")\n",
    "    "
   ]
  },
  {
   "cell_type": "markdown",
   "metadata": {},
   "source": [
    "### **<h2>Лучшие практики обработки ошибок</h2>**"
   ]
  },
  {
   "cell_type": "markdown",
   "metadata": {},
   "source": [
    "**<h3>Принципы DRY и KISS в обработке ошибок:</h3>**"
   ]
  },
  {
   "cell_type": "markdown",
   "metadata": {},
   "source": [
    "**<h4>DRY (Don't Repeat Yourself):</h4>**\n",
    "\n",
    "* Избегайте дублирования кода при обработке ошибок.\n",
    "* Используйте общие функции или классы для обработки часто встречающихся исключений.\n",
    "> * Пример: Создание отдельной функции для обработки логирования ошибок."
   ]
  },
  {
   "cell_type": "markdown",
   "metadata": {},
   "source": [
    "**<h4>KISS (Keep It Simple, Stupid):</h4>**\n",
    "\n",
    "* Старайтесь упрощать логику обработки ошибок.\n",
    "* Избегайте излишней сложности и вложенности блоков try/except.\n",
    "> * Пример: Обрабатывайте исключения как можно ближе к месту их возникновения и не усложняйте логику обработчиков."
   ]
  },
  {
   "cell_type": "markdown",
   "metadata": {},
   "source": [
    "**<h3>Логирование и мониторинг ошибок:</h3>**\n",
    "\n",
    "> Логирование ошибок:\n",
    "* Записывайте информацию об ошибках в лог-файлы для последующего анализа.\n",
    "* Используйте библиотеку logging для структурированного логирования.\n",
    "* Логируйте важные данные: сообщение об ошибке, стек вызовов, время возникновения ошибки.\n",
    "\n",
    "> Мониторинг ошибок:\n",
    "* Используйте инструменты мониторинга (например, Sentry, New Relic) для отслеживания и оповещения о критических ошибках в реальном времени.\n",
    "* Настройте уведомления для критических ошибок, чтобы быстро реагировать на проблемы."
   ]
  },
  {
   "cell_type": "markdown",
   "metadata": {},
   "source": [
    "**<h3>Обработка критических и некритических ошибок:</h3>**\n",
    "\n",
    "> Критические ошибки:\n",
    "* Ошибки, которые требуют немедленного внимания и могут нарушить работу системы.\n",
    "* Пример: Потеря соединения с базой данных, критические сбои сервера.\n",
    "* Логируйте и оповещайте команду об этих ошибках, возможно, прерывайте выполнение программы.\n",
    "\n",
    "> Некритические ошибки:\n",
    "* Ошибки, которые не требуют немедленного вмешательства и могут быть обработаны локально.\n",
    "* Пример: Ошибки валидации пользовательского ввода, несущественные сбои сети.\n",
    "* Логируйте эти ошибки и предоставляйте пользователю информацию для корректного действия."
   ]
  },
  {
   "cell_type": "markdown",
   "metadata": {},
   "source": [
    "**<h3>Примеры лучших практик из реальных проектов:</h3>**"
   ]
  },
  {
   "cell_type": "markdown",
   "metadata": {},
   "source": [
    "Логирование ошибок:"
   ]
  },
  {
   "cell_type": "code",
   "execution_count": 110,
   "metadata": {},
   "outputs": [
    {
     "name": "stdout",
     "output_type": "stream",
     "text": [
      "Произошла критическая ошибка.\n"
     ]
    }
   ],
   "source": [
    "import logging\n",
    "\n",
    "logging.basicConfig(filename='app.log', level=logging.ERROR, encoding='utf-8')\n",
    "\n",
    "def divide(a, b):\n",
    "    try:\n",
    "        return a / b\n",
    "    except ZeroDivisionError as e:\n",
    "        logging.error(f\"Ошибка деления на ноль: {e}\")\n",
    "        raise\n",
    "\n",
    "try:\n",
    "    divide(10, 0)\n",
    "except ZeroDivisionError:\n",
    "    print(\"Произошла критическая ошибка.\")\n"
   ]
  },
  {
   "cell_type": "markdown",
   "metadata": {},
   "source": [
    "Использование общих функций для обработки ошибок:"
   ]
  },
  {
   "cell_type": "code",
   "execution_count": null,
   "metadata": {},
   "outputs": [],
   "source": [
    "import logging\n",
    "\n",
    "logging.basicConfig(filename='app.log', level=logging.ERROR, encoding='utf-8')\n",
    "\n",
    "def log_error(e):\n",
    "    logging.error(f\"Произошла ошибка: {e}\")\n",
    "\n",
    "def divide(a, b):\n",
    "    try:\n",
    "        return a / b\n",
    "    except ZeroDivisionError as e:\n",
    "        log_error(e)\n",
    "        raise\n",
    "\n",
    "try:\n",
    "    divide(10, 0)\n",
    "except ZeroDivisionError:\n",
    "    print(\"Произошла критическая ошибка.\")\n"
   ]
  },
  {
   "cell_type": "markdown",
   "metadata": {},
   "source": [
    "### **<h2>Разбор сложных случаев </h2>**"
   ]
  },
  {
   "cell_type": "markdown",
   "metadata": {},
   "source": [
    "**<h3>Обработка сетевых ошибок и тайм-аутов:</h3>**\n",
    "\n",
    "* Сетевые ошибки:\n",
    "\n",
    " Возникают при попытках сетевого взаимодействия (запросы к API, скачивание данных и т.д.).\n",
    "* Тайм-ауты:\n",
    "\n",
    " Временные лимиты на выполнение сетевых операций. Тайм-ауты могут приводить к исключениям, которые необходимо корректно обрабатывать.\n",
    "* Библиотеки для работы с сетью:\n",
    "\n",
    " `requests`, `http.client`, `aiohttp для асинхронного программирования`.\n",
    "* Пример исключений: \n",
    "\n",
    "`requests.exceptions.RequestException`, `socket.timeout`."
   ]
  },
  {
   "cell_type": "markdown",
   "metadata": {},
   "source": [
    "**<h3>Работа с контекстными менеджерами и with блоками:</h3>**\n",
    "\n",
    "* Контекстные менеджеры:\n",
    "\n",
    " Используются для гарантированной и автоматической очистки ресурсов, таких как файлы или сетевые соединения.\n",
    "* Ключевое слово with:\n",
    "\n",
    " Открывает блок, в котором выполняется контекстный менеджер. По завершении блока, ресурсы освобождаются автоматически, даже в случае исключений.\n",
    "* Пример:\n",
    "\n",
    " Работа с файлами, сетевые соединения."
   ]
  },
  {
   "cell_type": "markdown",
   "metadata": {},
   "source": [
    "**<h3>Обработка многопоточности и асинхронных исключений:</h3>**\n",
    "\n",
    "* Многопоточность:\n",
    "\n",
    " Использование модулей `threading` и `concurrent.futures` для создания и управления потоками.\n",
    "* Асинхронное программирование:\n",
    "\n",
    " Использование `asyncio` для выполнения асинхронных задач.\n",
    "* Обработка исключений:\n",
    "\n",
    " В многопоточности и асинхронных задачах обработка исключений может быть сложной из-за их непредсказуемости.\n",
    "* Пример:\n",
    "\n",
    " Обработка исключений в асинхронных функциях и в потоках."
   ]
  },
  {
   "cell_type": "markdown",
   "metadata": {},
   "source": [
    "**<h3>Примеры сложных случаев</h3>**"
   ]
  },
  {
   "cell_type": "markdown",
   "metadata": {},
   "source": [
    "Обработка сетевых ошибок и тайм-аутов:"
   ]
  },
  {
   "cell_type": "code",
   "execution_count": null,
   "metadata": {},
   "outputs": [],
   "source": [
    "import requests\n",
    "from requests.exceptions import RequestException, Timeout\n",
    "from deep_translator import GoogleTranslator\n",
    "\n",
    "def fetch_data(url):\n",
    "    try:\n",
    "        response = requests.get(url, timeout=5)\n",
    "        response.raise_for_status()\n",
    "        return response.json()\n",
    "    except Timeout:\n",
    "        print(\"Запрос превысил время ожидания\")\n",
    "    except RequestException as e:\n",
    "        print(f\"Произошла сетевая ошибка: {e}\")\n",
    "\n",
    "data = fetch_data(\"https://jsonplaceholder.typicode.com/posts\")\n",
    "\n",
    "translated = GoogleTranslator(source='auto', target='ru').translate(data[2]['title'])\n",
    "print(translated)\n"
   ]
  },
  {
   "cell_type": "markdown",
   "metadata": {},
   "source": [
    "Работа с контекстными менеджерами и with блоками:"
   ]
  },
  {
   "cell_type": "code",
   "execution_count": null,
   "metadata": {},
   "outputs": [],
   "source": [
    "import requests\n",
    "from contextlib import contextmanager\n",
    "\n",
    "@contextmanager\n",
    "def managed_request(url):\n",
    "    try:\n",
    "        response = requests.get(url)\n",
    "        yield response\n",
    "    finally:\n",
    "        response.close()\n",
    "\n",
    "with managed_request(\"https://jsonplaceholder.typicode.com/posts\") as response:\n",
    "    if response.status_code == 200:\n",
    "        print(response.json())\n"
   ]
  },
  {
   "cell_type": "markdown",
   "metadata": {},
   "source": [
    "Обработка асинхронных исключений:"
   ]
  },
  {
   "cell_type": "code",
   "execution_count": null,
   "metadata": {},
   "outputs": [],
   "source": [
    "import aiohttp\n",
    "import asyncio\n",
    "import nest_asyncio\n",
    "\n",
    "# Это необходимо только в Jupyter Notebook или аналогичных средах\n",
    "nest_asyncio.apply()\n",
    "\n",
    "async def fetch_data(url):\n",
    "    async with aiohttp.ClientSession() as session:\n",
    "        try:\n",
    "            async with session.get(url, timeout=5) as response:\n",
    "                response.raise_for_status()\n",
    "                return await response.json()\n",
    "        except aiohttp.ClientError as e:\n",
    "            print(f\"Произошла сетевая ошибка: {e}\")\n",
    "        except asyncio.TimeoutError:\n",
    "            print(\"Запрос превысил время ожидания\")\n",
    "\n",
    "async def main():\n",
    "    data = await fetch_data(\"https://jsonplaceholder.typicode.com/posts\")\n",
    "    if data:\n",
    "        print(data)\n",
    "\n",
    "# Вызов main функции в текущем цикле событий\n",
    "asyncio.get_event_loop().run_until_complete(main())\n"
   ]
  }
 ],
 "metadata": {
  "kernelspec": {
   "display_name": "Python 3",
   "language": "python",
   "name": "python3"
  },
  "language_info": {
   "codemirror_mode": {
    "name": "ipython",
    "version": 3
   },
   "file_extension": ".py",
   "mimetype": "text/x-python",
   "name": "python",
   "nbconvert_exporter": "python",
   "pygments_lexer": "ipython3",
   "version": "3.12.6"
  }
 },
 "nbformat": 4,
 "nbformat_minor": 2
}
